{
 "cells": [
  {
   "cell_type": "code",
   "execution_count": 7,
   "metadata": {},
   "outputs": [],
   "source": [
    "import numpy as np                                                                                        \n",
    "import matplotlib.pyplot as plt\n",
    "import ROOT"
   ]
  },
  {
   "cell_type": "code",
   "execution_count": 8,
   "metadata": {},
   "outputs": [],
   "source": [
    "mapsas = [\"HPK28_1\",\"HPK28_2\",\"HPK29_2\",\"HPK30_1\",\"HPK30_2\",\"HPK31_1\",\"HPK31_2\",\"HPK32_2\",\"HPK33_1\",\"HPK33_2\",\n",
    "    \"HPK34_1\",\"HPK34_2\",\"HPK35_1\",\"HPK35_2\",\"HPK36_1\",\"HPK36_2\",\"HPK37_1\",\"HPK37_2\",\"HPK38_1\",\"HPK38_2\",\n",
    "    \"QuikPak_PS-p-P1\",\"QuikPak_PS-p-P1_4\",\"QuikPak_PS-p-P2\",\"QuikPak_PS-p-P2_4\"\n",
    "         ]"
   ]
  },
  {
   "cell_type": "code",
   "execution_count": 9,
   "metadata": {},
   "outputs": [],
   "source": [
    "ROOT.gStyle.SetOptStat(0)\n",
    "ROOT.gStyle.SetOptTitle(1)"
   ]
  },
  {
   "cell_type": "code",
   "execution_count": 10,
   "metadata": {},
   "outputs": [],
   "source": [
    "# initialize\n",
    "h = [ROOT.TH1F()]*16\n",
    "colors = [1,2,3,4,5,6,7,15,1,2,3,4,5,6,7,15]\n",
    "styles = [1,1,1,1,1,1,1,1,2,2,2,2,2,2,2,2]"
   ]
  },
  {
   "cell_type": "code",
   "execution_count": 11,
   "metadata": {},
   "outputs": [],
   "source": [
    "def fix_overflow(hist,xmax):\n",
    "    imax = hist.FindBin(xmax)-1\n",
    "    overflow = hist.Integral(imax+1,-1)\n",
    "    \n",
    "    hist.SetBinContent(imax,overflow)\n",
    "    for i in range(imax+1,hist.GetNbinsX()+1):\n",
    "        hist.SetBinContent(i,0)\n",
    "    return hist"
   ]
  },
  {
   "cell_type": "code",
   "execution_count": 12,
   "metadata": {},
   "outputs": [
    {
     "name": "stdout",
     "output_type": "stream",
     "text": [
      "BBnoisefiles/HPK28_1_BB_noise\n",
      "BBnoisefiles/HPK28_2_BB_noise\n",
      "BBnoisefiles/HPK29_2_BB_noise\n",
      "BBnoisefiles/HPK30_1_BB_noise\n",
      "BBnoisefiles/HPK30_2_BB_noise\n",
      "BBnoisefiles/HPK31_1_BB_noise\n",
      "BBnoisefiles/HPK31_2_BB_noise\n",
      "BBnoisefiles/HPK32_2_BB_noise\n",
      "BBnoisefiles/HPK33_1_BB_noise\n",
      "BBnoisefiles/HPK33_2_BB_noise\n",
      "BBnoisefiles/HPK34_1_BB_noise\n",
      "BBnoisefiles/HPK34_2_BB_noise\n",
      "BBnoisefiles/HPK35_1_BB_noise\n",
      "BBnoisefiles/HPK35_2_BB_noise\n",
      "BBnoisefiles/HPK36_1_BB_noise\n",
      "BBnoisefiles/HPK36_2_BB_noise\n",
      "BBnoisefiles/HPK37_1_BB_noise\n",
      "BBnoisefiles/HPK37_2_BB_noise\n",
      "BBnoisefiles/HPK38_1_BB_noise\n",
      "BBnoisefiles/HPK38_2_BB_noise\n",
      "BBnoisefiles/QuikPak_PS-p-P1_BB_noise\n",
      "BBnoisefiles/QuikPak_PS-p-P1_4_BB_noise\n",
      "BBnoisefiles/QuikPak_PS-p-P2_BB_noise\n",
      "BBnoisefiles/QuikPak_PS-p-P2_4_BB_noise\n"
     ]
    },
    {
     "name": "stderr",
     "output_type": "stream",
     "text": [
      "Info in <TCanvas::Print>: png file BBnoisefiles/HPK28_1_BB_noise.png has been created\n",
      "Info in <TCanvas::Print>: pdf file BBnoisefiles/HPK28_1_BB_noise.pdf has been created\n",
      "Info in <TCanvas::Print>: png file BBnoisefiles/HPK28_2_BB_noise.png has been created\n",
      "Info in <TCanvas::Print>: pdf file BBnoisefiles/HPK28_2_BB_noise.pdf has been created\n",
      "Info in <TCanvas::Print>: png file BBnoisefiles/HPK29_2_BB_noise.png has been created\n",
      "Info in <TCanvas::Print>: pdf file BBnoisefiles/HPK29_2_BB_noise.pdf has been created\n",
      "Info in <TCanvas::Print>: png file BBnoisefiles/HPK30_1_BB_noise.png has been created\n",
      "Info in <TCanvas::Print>: pdf file BBnoisefiles/HPK30_1_BB_noise.pdf has been created\n",
      "Info in <TCanvas::Print>: png file BBnoisefiles/HPK30_2_BB_noise.png has been created\n",
      "Info in <TCanvas::Print>: pdf file BBnoisefiles/HPK30_2_BB_noise.pdf has been created\n",
      "Info in <TCanvas::Print>: png file BBnoisefiles/HPK31_1_BB_noise.png has been created\n",
      "Info in <TCanvas::Print>: pdf file BBnoisefiles/HPK31_1_BB_noise.pdf has been created\n",
      "Info in <TCanvas::Print>: png file BBnoisefiles/HPK31_2_BB_noise.png has been created\n",
      "Info in <TCanvas::Print>: pdf file BBnoisefiles/HPK31_2_BB_noise.pdf has been created\n",
      "Info in <TCanvas::Print>: png file BBnoisefiles/HPK32_2_BB_noise.png has been created\n",
      "Info in <TCanvas::Print>: pdf file BBnoisefiles/HPK32_2_BB_noise.pdf has been created\n",
      "Info in <TCanvas::Print>: png file BBnoisefiles/HPK33_1_BB_noise.png has been created\n",
      "Info in <TCanvas::Print>: pdf file BBnoisefiles/HPK33_1_BB_noise.pdf has been created\n",
      "Info in <TCanvas::Print>: png file BBnoisefiles/HPK33_2_BB_noise.png has been created\n",
      "Info in <TCanvas::Print>: pdf file BBnoisefiles/HPK33_2_BB_noise.pdf has been created\n",
      "Info in <TCanvas::Print>: png file BBnoisefiles/HPK34_1_BB_noise.png has been created\n",
      "Info in <TCanvas::Print>: pdf file BBnoisefiles/HPK34_1_BB_noise.pdf has been created\n",
      "Info in <TCanvas::Print>: png file BBnoisefiles/HPK34_2_BB_noise.png has been created\n",
      "Info in <TCanvas::Print>: pdf file BBnoisefiles/HPK34_2_BB_noise.pdf has been created\n",
      "Info in <TCanvas::Print>: png file BBnoisefiles/HPK35_1_BB_noise.png has been created\n",
      "Info in <TCanvas::Print>: pdf file BBnoisefiles/HPK35_1_BB_noise.pdf has been created\n",
      "Info in <TCanvas::Print>: png file BBnoisefiles/HPK35_2_BB_noise.png has been created\n",
      "Info in <TCanvas::Print>: pdf file BBnoisefiles/HPK35_2_BB_noise.pdf has been created\n",
      "Info in <TCanvas::Print>: png file BBnoisefiles/HPK36_1_BB_noise.png has been created\n",
      "Info in <TCanvas::Print>: pdf file BBnoisefiles/HPK36_1_BB_noise.pdf has been created\n",
      "Info in <TCanvas::Print>: png file BBnoisefiles/HPK36_2_BB_noise.png has been created\n",
      "Info in <TCanvas::Print>: pdf file BBnoisefiles/HPK36_2_BB_noise.pdf has been created\n",
      "Info in <TCanvas::Print>: png file BBnoisefiles/HPK37_1_BB_noise.png has been created\n",
      "Info in <TCanvas::Print>: pdf file BBnoisefiles/HPK37_1_BB_noise.pdf has been created\n",
      "Info in <TCanvas::Print>: png file BBnoisefiles/HPK37_2_BB_noise.png has been created\n",
      "Info in <TCanvas::Print>: pdf file BBnoisefiles/HPK37_2_BB_noise.pdf has been created\n",
      "Info in <TCanvas::Print>: png file BBnoisefiles/HPK38_1_BB_noise.png has been created\n",
      "Info in <TCanvas::Print>: pdf file BBnoisefiles/HPK38_1_BB_noise.pdf has been created\n",
      "Info in <TCanvas::Print>: png file BBnoisefiles/HPK38_2_BB_noise.png has been created\n",
      "Info in <TCanvas::Print>: pdf file BBnoisefiles/HPK38_2_BB_noise.pdf has been created\n",
      "Info in <TCanvas::Print>: png file BBnoisefiles/QuikPak_PS-p-P1_BB_noise.png has been created\n",
      "Info in <TCanvas::Print>: pdf file BBnoisefiles/QuikPak_PS-p-P1_BB_noise.pdf has been created\n",
      "Info in <TCanvas::Print>: png file BBnoisefiles/QuikPak_PS-p-P1_4_BB_noise.png has been created\n",
      "Info in <TCanvas::Print>: pdf file BBnoisefiles/QuikPak_PS-p-P1_4_BB_noise.pdf has been created\n",
      "Info in <TCanvas::Print>: png file BBnoisefiles/QuikPak_PS-p-P2_BB_noise.png has been created\n",
      "Info in <TCanvas::Print>: pdf file BBnoisefiles/QuikPak_PS-p-P2_BB_noise.pdf has been created\n",
      "Info in <TCanvas::Print>: png file BBnoisefiles/QuikPak_PS-p-P2_4_BB_noise.png has been created\n",
      "Info in <TCanvas::Print>: pdf file BBnoisefiles/QuikPak_PS-p-P2_4_BB_noise.pdf has been created\n"
     ]
    },
    {
     "data": {
      "image/png": "[encoded data removed]",
      "text/plain": [
       "<IPython.core.display.Image object>"
      ]
     },
     "metadata": {},
     "output_type": "display_data"
    }
   ],
   "source": [
    "cal = False\n",
    "bb = True\n",
    "for mapsaname in mapsas:\n",
    "\n",
    "    histtitle = \"Mean THR noise for \" + mapsaname\n",
    "    if cal:\n",
    "        histtitle =\"Mean CAL noise for \" + mapsaname\n",
    "    if bb:\n",
    "        histtitle = \"BB test noise (-2V) for \" + mapsaname \n",
    "\n",
    "    hfile = ROOT.TFile.Open(\"BBnoisefiles/BBstudy_\"+mapsaname+\".root\")\n",
    "    hname_prefix = \"h_noise_thr_Chip\"\n",
    "    if cal:\n",
    "        hname_prefix = \"h_noise_cal_Chip\"\n",
    "    if bb:\n",
    "        hname_prefix = \"h_noise_bum_Chip\"\n",
    "\n",
    "    leg = ROOT.TLegend(0.15,0.65,0.35,0.85)\n",
    "    if bb:\n",
    "        leg = ROOT.TLegend(0.65,0.65,0.85,0.85)\n",
    "    leg.SetNColumns(2)\n",
    "\n",
    "\n",
    "    xmax = 100\n",
    "    if cal:\n",
    "        xmax = 25\n",
    "    if bb:\n",
    "        xmax = 10\n",
    "    \n",
    "    ymax = 0\n",
    "    for i in range(0,16):\n",
    "        h[i] = hfile.Get(hname_prefix+str(i+1))\n",
    "        h[i].SetLineColor(colors[i])\n",
    "        h[i].SetMarkerColor(colors[i])\n",
    "        h[i].SetLineStyle(styles[i])\n",
    "        leg.AddEntry(h[i],\"Chip \"+str(i+1),\"l\")\n",
    "        h[i] = fix_overflow(h[i],xmax)\n",
    "\n",
    "        if h[i].GetMaximum() > ymax:\n",
    "            ymax = h[i].GetMaximum()\n",
    "    \n",
    "    c = ROOT.TCanvas(mapsaname,mapsaname,800,600)\n",
    "    ROOT.gPad.SetLogy()\n",
    "    \n",
    "    h[0].SetTitle(histtitle)\n",
    "    h[0].GetXaxis().SetRangeUser(0,xmax)\n",
    "    h[0].GetYaxis().SetRangeUser(.1,ymax*1.25)\n",
    "    h[0].Draw(\"hist\")\n",
    "    for i in range (1,16):\n",
    "        h[i].Draw(\"histsame\")\n",
    "    leg.Draw()\n",
    "\n",
    "    c.Draw()\n",
    "    \n",
    "    savename = \"BBnoisefiles/\"+mapsaname+\"_THR_noise\"\n",
    "    if cal:\n",
    "        savename = \"BBnoisefiles/\"+mapsaname+\"_CAL_noise\"\n",
    "    if bb:\n",
    "        savename = \"BBnoisefiles/\"+mapsaname+\"_BB_noise\"\n",
    "\n",
    "    print(savename)\n",
    "    c.SaveAs(savename+\".png\")\n",
    "    c.SaveAs(savename+\".pdf\")"
   ]
  },
  {
   "cell_type": "code",
   "execution_count": null,
   "metadata": {},
   "outputs": [],
   "source": []
  },
  {
   "cell_type": "code",
   "execution_count": null,
   "metadata": {},
   "outputs": [],
   "source": []
  }
 ],
 "metadata": {
  "kernelspec": {
   "display_name": "Python 2",
   "language": "python",
   "name": "python2"
  },
  "language_info": {
   "codemirror_mode": {
    "name": "ipython",
    "version": 2
   },
   "file_extension": ".py",
   "mimetype": "text/x-python",
   "name": "python",
   "nbconvert_exporter": "python",
   "pygments_lexer": "ipython2",
   "version": "2.7.16"
  }
 },
 "nbformat": 4,
 "nbformat_minor": 2
}
